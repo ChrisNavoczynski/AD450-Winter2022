{
 "cells": [
  {
   "cell_type": "markdown",
   "id": "baf7b3e0",
   "metadata": {},
   "source": [
    "## Import Statements & Configurations\n"
   ]
  },
  {
   "cell_type": "code",
   "execution_count": 66,
   "id": "0cef9b55",
   "metadata": {},
   "outputs": [],
   "source": [
    "import pandas as pd\n",
    "import lxml\n",
    "import requests\n",
    "pd.set_option('display.max_rows', None)"
   ]
  },
  {
   "cell_type": "markdown",
   "id": "c22a7bb3",
   "metadata": {},
   "source": [
    "## Load state-level data "
   ]
  },
  {
   "cell_type": "code",
   "execution_count": 67,
   "id": "4c4f77f7",
   "metadata": {},
   "outputs": [],
   "source": [
    "url = 'https://www.worldometers.info/coronavirus/country/us/#nav-yesterday'\n",
    "req = requests.get(url)\n",
    "dfs = pd.read_html(req.text)"
   ]
  },
  {
   "cell_type": "code",
   "execution_count": 68,
   "id": "46190308",
   "metadata": {},
   "outputs": [
    {
     "name": "stdout",
     "output_type": "stream",
     "text": [
      "     #    USAState  TotalCases  NewCases  TotalDeaths  NewDeaths  \\\n",
      "0  NaN   USA Total    71597479  202900.0     888343.0      701.0   \n",
      "1  1.0  California     7376878       NaN      78730.0        NaN   \n",
      "2  2.0       Texas     5919216   54691.0      78423.0      154.0   \n",
      "3  3.0     Florida     5328573       NaN      63574.0        NaN   \n",
      "4  4.0    New York     4813820   23333.0      63619.0       56.0   \n",
      "\n",
      "   TotalRecovered  ActiveCases  Tot Cases/1M pop  Deaths/1M pop   TotalTests  \\\n",
      "0      44235490.0   26473646.0          216305.0         2684.0  901998821.0   \n",
      "1             NaN          NaN          186699.0         1993.0  131160392.0   \n",
      "2             NaN          NaN          204140.0         2705.0   55606051.0   \n",
      "3       3665356.0    1599643.0          248098.0         2960.0   50280048.0   \n",
      "4       2597185.0    2153016.0          247452.0         3270.0   95256290.0   \n",
      "\n",
      "   Tests/ 1M pop  Population                            Source    Projections  \n",
      "0      2725050.0         NaN                               NaN            NaN  \n",
      "1      3319489.0  39512223.0              [view by county] [1]  [projections]  \n",
      "2      1917722.0  28995881.0      [view by county] [1] [2] [3]  [projections]  \n",
      "3      2341031.0  21477737.0  [view by county] [1] [2] [3] [4]  [projections]  \n",
      "4      4896599.0  19453561.0      [view by county] [1] [2] [3]  [projections]  \n"
     ]
    }
   ],
   "source": [
    "# Create a variable for the Covid Table by State\n",
    "statesT = dfs[0]\n",
    "print(statesT.head())"
   ]
  },
  {
   "cell_type": "markdown",
   "id": "9de4482c",
   "metadata": {},
   "source": [
    "### Refactor the Table"
   ]
  },
  {
   "cell_type": "code",
   "execution_count": 69,
   "id": "ab4cf05d",
   "metadata": {},
   "outputs": [
    {
     "name": "stdout",
     "output_type": "stream",
     "text": [
      "     USAState  TotalCases  NewCases  TotalDeaths  NewDeaths  TotalRecovered  \\\n",
      "1  California     7376878       NaN      78730.0        NaN             NaN   \n",
      "2       Texas     5919216   54691.0      78423.0      154.0             NaN   \n",
      "3     Florida     5328573       NaN      63574.0        NaN       3665356.0   \n",
      "4    New York     4813820   23333.0      63619.0       56.0       2597185.0   \n",
      "5    Illinois     2773362       NaN      33446.0        NaN       1924335.0   \n",
      "\n",
      "   ActiveCases  Tot Cases/1M pop  Deaths/1M pop   TotalTests  Tests/ 1M pop  \\\n",
      "1          NaN          186699.0         1993.0  131160392.0      3319489.0   \n",
      "2          NaN          204140.0         2705.0   55606051.0      1917722.0   \n",
      "3    1599643.0          248098.0         2960.0   50280048.0      2341031.0   \n",
      "4    2153016.0          247452.0         3270.0   95256290.0      4896599.0   \n",
      "5     815581.0          218861.0         2639.0   49488107.0      3905367.0   \n",
      "\n",
      "   Population  \n",
      "1  39512223.0  \n",
      "2  28995881.0  \n",
      "3  21477737.0  \n",
      "4  19453561.0  \n",
      "5  12671821.0  \n"
     ]
    }
   ],
   "source": [
    "# Remove the following columns: #, Source, & Projections Columns\n",
    "statesT.drop(['#', 'Source', 'Projections'], axis=1, inplace=True)\n",
    "\n",
    "# Remove the following row: Country Totals \n",
    "statesT.drop([0, 64], axis=0, inplace=True)\n",
    "print(statesT.head())"
   ]
  },
  {
   "cell_type": "code",
   "execution_count": 77,
   "id": "c1b8b6ad",
   "metadata": {},
   "outputs": [],
   "source": [
    "# Verify State Column has no HTML.\n",
    "# The method used to extract information did not include html in the column. Code was not needed.\n",
    "# print(statesT['USAState'])"
   ]
  },
  {
   "cell_type": "markdown",
   "id": "2960a949",
   "metadata": {},
   "source": [
    "## Describe the Dataframe by printing the first few rows"
   ]
  },
  {
   "cell_type": "code",
   "execution_count": 71,
   "id": "1c1256ae",
   "metadata": {},
   "outputs": [
    {
     "name": "stdout",
     "output_type": "stream",
     "text": [
      "     USAState  TotalCases  NewCases  TotalDeaths  NewDeaths  TotalRecovered  \\\n",
      "1  California     7376878       NaN      78730.0        NaN             NaN   \n",
      "2       Texas     5919216   54691.0      78423.0      154.0             NaN   \n",
      "3     Florida     5328573       NaN      63574.0        NaN       3665356.0   \n",
      "4    New York     4813820   23333.0      63619.0       56.0       2597185.0   \n",
      "5    Illinois     2773362       NaN      33446.0        NaN       1924335.0   \n",
      "\n",
      "   ActiveCases  Tot Cases/1M pop  Deaths/1M pop   TotalTests  Tests/ 1M pop  \\\n",
      "1          NaN          186699.0         1993.0  131160392.0      3319489.0   \n",
      "2          NaN          204140.0         2705.0   55606051.0      1917722.0   \n",
      "3    1599643.0          248098.0         2960.0   50280048.0      2341031.0   \n",
      "4    2153016.0          247452.0         3270.0   95256290.0      4896599.0   \n",
      "5     815581.0          218861.0         2639.0   49488107.0      3905367.0   \n",
      "\n",
      "   Population  \n",
      "1  39512223.0  \n",
      "2  28995881.0  \n",
      "3  21477737.0  \n",
      "4  19453561.0  \n",
      "5  12671821.0  \n"
     ]
    }
   ],
   "source": [
    "# Print the dataframe first few rows\n",
    "print(statesT.head())"
   ]
  },
  {
   "cell_type": "markdown",
   "id": "cec66526",
   "metadata": {},
   "source": [
    "## Print Dataframe Summary Statistics"
   ]
  },
  {
   "cell_type": "code",
   "execution_count": 72,
   "id": "b7517431",
   "metadata": {},
   "outputs": [
    {
     "name": "stdout",
     "output_type": "stream",
     "text": [
      "         TotalCases      NewCases   TotalDeaths   NewDeaths  TotalRecovered  \\\n",
      "count  6.300000e+01     18.000000     60.000000   13.000000    4.500000e+01   \n",
      "mean   1.136468e+06  11272.222222  14805.716667   53.923077    6.700809e+05   \n",
      "std    1.458594e+06  13562.849785  18286.432025   51.527439    7.790418e+05   \n",
      "min    3.000000e+00     42.000000      7.000000    1.000000    3.000000e+00   \n",
      "25%    2.123280e+05   2730.750000   2393.750000   14.000000    1.436660e+05   \n",
      "50%    6.813820e+05   6182.500000   9590.500000   42.000000    4.221640e+05   \n",
      "75%    1.448960e+06  16298.750000  19053.750000   66.000000    8.976670e+05   \n",
      "max    7.376878e+06  54691.000000  78730.000000  154.000000    3.665356e+06   \n",
      "\n",
      "        ActiveCases  Tot Cases/1M pop  Deaths/1M pop    TotalTests  \\\n",
      "count  4.500000e+01         52.000000      52.000000  6.000000e+01   \n",
      "mean   2.775032e+05     213541.442308    2491.923077  1.503331e+07   \n",
      "std    4.256681e+05      37734.711237     747.857485  2.236571e+07   \n",
      "min    0.000000e+00     124160.000000     803.000000  3.000000e+00   \n",
      "25%    1.846200e+04     199448.250000    1946.000000  3.231341e+06   \n",
      "50%    1.370030e+05     216207.000000    2726.000000  7.579212e+06   \n",
      "75%    3.748670e+05     237846.000000    3064.000000  1.726279e+07   \n",
      "max    2.153016e+06     308780.000000    3602.000000  1.311604e+08   \n",
      "\n",
      "       Tests/ 1M pop    Population  \n",
      "count   5.200000e+01  5.200000e+01  \n",
      "mean    2.855475e+06  6.377432e+06  \n",
      "std     2.035023e+06  7.300396e+06  \n",
      "min     7.416520e+05  5.787590e+05  \n",
      "25%     1.969889e+06  1.790876e+06  \n",
      "50%     2.335048e+06  4.342705e+06  \n",
      "75%     2.954595e+06  7.362761e+06  \n",
      "max     1.445150e+07  3.951222e+07  \n"
     ]
    }
   ],
   "source": [
    "# The stats will provide infomation such as min, max, the count, the standard deviation and the mean (avg).\n",
    "print(statesT.describe())"
   ]
  },
  {
   "cell_type": "markdown",
   "id": "ad5a7d0f",
   "metadata": {},
   "source": [
    "## Print the top 5 states (name & value) for each of these metrics:"
   ]
  },
  {
   "cell_type": "code",
   "execution_count": 73,
   "id": "0838b519",
   "metadata": {},
   "outputs": [
    {
     "name": "stdout",
     "output_type": "stream",
     "text": [
      "        USAState  NewCases\n",
      "2          Texas   54691.0\n",
      "12       Arizona   27681.0\n",
      "4       New York   23333.0\n",
      "6   Pennsylvania   17623.0\n",
      "23       Alabama   16506.0\n"
     ]
    }
   ],
   "source": [
    "# New Cases\n",
    "print(statesT[['USAState','NewCases']].sort_values(by=['NewCases'], ascending=False).head(5))"
   ]
  },
  {
   "cell_type": "code",
   "execution_count": 74,
   "id": "1c94c73a",
   "metadata": {},
   "outputs": [
    {
     "name": "stdout",
     "output_type": "stream",
     "text": [
      "       USAState  TotalDeaths\n",
      "1    California      78730.0\n",
      "2         Texas      78423.0\n",
      "4      New York      63619.0\n",
      "3       Florida      63574.0\n",
      "6  Pennsylvania      39487.0\n"
     ]
    }
   ],
   "source": [
    "# Total Deaths\n",
    "print(statesT[['USAState', 'TotalDeaths']].sort_values(by=['TotalDeaths'], ascending=False).head(5))"
   ]
  },
  {
   "cell_type": "code",
   "execution_count": 75,
   "id": "ef0f4f40",
   "metadata": {},
   "outputs": [
    {
     "name": "stdout",
     "output_type": "stream",
     "text": [
      "      USAState  ActiveCases\n",
      "4     New York    2153016.0\n",
      "3      Florida    1599643.0\n",
      "5     Illinois     815581.0\n",
      "11  New Jersey     809455.0\n",
      "22  Washington     780732.0\n"
     ]
    }
   ],
   "source": [
    "# Total Cases/ 1M Pop.\n",
    "tcases = statesT.iloc[:, [0, 6]]\n",
    "print(tcases.sort_values(by=[tcases.columns[1]], ascending=False).head(5))"
   ]
  },
  {
   "cell_type": "code",
   "execution_count": 76,
   "id": "043c58b4",
   "metadata": {},
   "outputs": [
    {
     "name": "stdout",
     "output_type": "stream",
     "text": [
      "        USAState  Tot Cases/1M pop\n",
      "40  Rhode Island          308780.0\n",
      "45  North Dakota          272944.0\n",
      "47        Alaska          257827.0\n",
      "28          Utah          257642.0\n",
      "13     Tennessee          251062.0\n"
     ]
    }
   ],
   "source": [
    "# Total Deaths/ 1M Pop.\n",
    "tdeaths = statesT.iloc[:, [0, 7]]\n",
    "print(tdeaths.sort_values(by=[tdeaths.columns[1]], ascending=False).head(5))"
   ]
  },
  {
   "cell_type": "code",
   "execution_count": null,
   "id": "345388fb",
   "metadata": {},
   "outputs": [],
   "source": []
  }
 ],
 "metadata": {
  "kernelspec": {
   "display_name": "Python 3 (ipykernel)",
   "language": "python",
   "name": "python3"
  },
  "language_info": {
   "codemirror_mode": {
    "name": "ipython",
    "version": 3
   },
   "file_extension": ".py",
   "mimetype": "text/x-python",
   "name": "python",
   "nbconvert_exporter": "python",
   "pygments_lexer": "ipython3",
   "version": "3.9.7"
  }
 },
 "nbformat": 4,
 "nbformat_minor": 5
}
