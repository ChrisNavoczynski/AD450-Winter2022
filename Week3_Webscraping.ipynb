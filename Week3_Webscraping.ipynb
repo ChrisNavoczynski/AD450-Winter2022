{
 "cells": [
  {
   "cell_type": "markdown",
   "id": "baf7b3e0",
   "metadata": {},
   "source": [
    "## Import Statements & Configurations\n"
   ]
  },
  {
   "cell_type": "code",
   "execution_count": 2,
   "id": "0cef9b55",
   "metadata": {},
   "outputs": [],
   "source": [
    "import pandas as pd\n",
    "import lxml\n",
    "import requests\n",
    "pd.set_option('display.max_rows', None)"
   ]
  },
  {
   "cell_type": "markdown",
   "id": "c22a7bb3",
   "metadata": {},
   "source": [
    "## Load state-level data "
   ]
  },
  {
   "cell_type": "code",
   "execution_count": 3,
   "id": "4c4f77f7",
   "metadata": {},
   "outputs": [],
   "source": [
    "# Create Variables to access chart\n",
    "url = 'https://www.worldometers.info/coronavirus/country/us/#nav-yesterday'\n",
    "req = requests.get(url)\n",
    "dfs = pd.read_html(req.text)"
   ]
  },
  {
   "cell_type": "code",
   "execution_count": 4,
   "id": "46190308",
   "metadata": {},
   "outputs": [
    {
     "name": "stdout",
     "output_type": "stream",
     "text": [
      "     #    USAState  TotalCases  NewCases  TotalDeaths  NewDeaths  \\\n",
      "0  NaN   USA Total    71916547  187990.0     889192.0      569.0   \n",
      "1  1.0  California     7448890   28014.0      78870.0       64.0   \n",
      "2  2.0       Texas     5972238   53022.0      78491.0       68.0   \n",
      "3  3.0     Florida     5351391       NaN      63576.0        NaN   \n",
      "4  4.0    New York     4832399   18579.0      63824.0      205.0   \n",
      "\n",
      "   TotalRecovered  ActiveCases  Tot Cases/1M pop  Deaths/1M pop   TotalTests  \\\n",
      "0      44361922.0   26665433.0          217269.0         2686.0  880232119.0   \n",
      "1             NaN          NaN          188521.0         1996.0  131160392.0   \n",
      "2             NaN          NaN          205968.0         2707.0   55862537.0   \n",
      "3       3666925.0    1620890.0          249160.0         2960.0   50383801.0   \n",
      "4       2601723.0    2166852.0          248407.0         3281.0   95500969.0   \n",
      "\n",
      "   Tests/ 1M pop  Population                            Source    Projections  \n",
      "0      2659290.0         NaN                               NaN            NaN  \n",
      "1      3319489.0  39512223.0              [view by county] [1]  [projections]  \n",
      "2      1926568.0  28995881.0      [view by county] [1] [2] [3]  [projections]  \n",
      "3      2345862.0  21477737.0  [view by county] [1] [2] [3] [4]  [projections]  \n",
      "4      4909177.0  19453561.0      [view by county] [1] [2] [3]  [projections]  \n"
     ]
    }
   ],
   "source": [
    "# Create a variable for the Covid Table by State\n",
    "statesT = dfs[0]\n",
    "print(statesT.head())"
   ]
  },
  {
   "cell_type": "markdown",
   "id": "9de4482c",
   "metadata": {},
   "source": [
    "### Refactor the Table"
   ]
  },
  {
   "cell_type": "code",
   "execution_count": 5,
   "id": "ab4cf05d",
   "metadata": {},
   "outputs": [
    {
     "name": "stdout",
     "output_type": "stream",
     "text": [
      "     USAState  TotalCases  NewCases  TotalDeaths  NewDeaths  TotalRecovered  \\\n",
      "1  California     7448890   28014.0      78870.0       64.0             NaN   \n",
      "2       Texas     5972238   53022.0      78491.0       68.0             NaN   \n",
      "3     Florida     5351391       NaN      63576.0        NaN       3666925.0   \n",
      "4    New York     4832399   18579.0      63824.0      205.0       2601723.0   \n",
      "5    Illinois     2773362       NaN      33446.0        NaN       1924335.0   \n",
      "\n",
      "   ActiveCases  Tot Cases/1M pop  Deaths/1M pop   TotalTests  Tests/ 1M pop  \\\n",
      "1          NaN          188521.0         1996.0  131160392.0      3319489.0   \n",
      "2          NaN          205968.0         2707.0   55862537.0      1926568.0   \n",
      "3    1620890.0          249160.0         2960.0   50383801.0      2345862.0   \n",
      "4    2166852.0          248407.0         3281.0   95500969.0      4909177.0   \n",
      "5     815581.0          218861.0         2639.0   49488107.0      3905367.0   \n",
      "\n",
      "   Population  \n",
      "1  39512223.0  \n",
      "2  28995881.0  \n",
      "3  21477737.0  \n",
      "4  19453561.0  \n",
      "5  12671821.0  \n"
     ]
    }
   ],
   "source": [
    "# Remove the following columns: #, Source, & Projections Columns\n",
    "statesT.drop(['#', 'Source', 'Projections'], axis=1, inplace=True)\n",
    "\n",
    "# Remove the following row: Country Totals \n",
    "statesT.drop([0, 64], axis=0, inplace=True)\n",
    "print(statesT.head())"
   ]
  },
  {
   "cell_type": "code",
   "execution_count": 14,
   "id": "c1b8b6ad",
   "metadata": {},
   "outputs": [],
   "source": [
    "# Verify State Column has no HTML.\n",
    "# The method used to extract information did not include html in the column. Code was not needed.\n",
    "# print(statesT['USAState'])"
   ]
  },
  {
   "cell_type": "markdown",
   "id": "2960a949",
   "metadata": {},
   "source": [
    "## Describe the Dataframe by printing the first few rows"
   ]
  },
  {
   "cell_type": "code",
   "execution_count": 7,
   "id": "1c1256ae",
   "metadata": {},
   "outputs": [
    {
     "name": "stdout",
     "output_type": "stream",
     "text": [
      "     USAState  TotalCases  NewCases  TotalDeaths  NewDeaths  TotalRecovered  \\\n",
      "1  California     7448890   28014.0      78870.0       64.0             NaN   \n",
      "2       Texas     5972238   53022.0      78491.0       68.0             NaN   \n",
      "3     Florida     5351391       NaN      63576.0        NaN       3666925.0   \n",
      "4    New York     4832399   18579.0      63824.0      205.0       2601723.0   \n",
      "5    Illinois     2773362       NaN      33446.0        NaN       1924335.0   \n",
      "\n",
      "   ActiveCases  Tot Cases/1M pop  Deaths/1M pop   TotalTests  Tests/ 1M pop  \\\n",
      "1          NaN          188521.0         1996.0  131160392.0      3319489.0   \n",
      "2          NaN          205968.0         2707.0   55862537.0      1926568.0   \n",
      "3    1620890.0          249160.0         2960.0   50383801.0      2345862.0   \n",
      "4    2166852.0          248407.0         3281.0   95500969.0      4909177.0   \n",
      "5     815581.0          218861.0         2639.0   49488107.0      3905367.0   \n",
      "\n",
      "   Population  \n",
      "1  39512223.0  \n",
      "2  28995881.0  \n",
      "3  21477737.0  \n",
      "4  19453561.0  \n",
      "5  12671821.0  \n"
     ]
    }
   ],
   "source": [
    "# Print the dataframe first few rows\n",
    "print(statesT.head())"
   ]
  },
  {
   "cell_type": "markdown",
   "id": "cec66526",
   "metadata": {},
   "source": [
    "## Print Dataframe Summary Statistics"
   ]
  },
  {
   "cell_type": "code",
   "execution_count": 8,
   "id": "b7517431",
   "metadata": {},
   "outputs": [
    {
     "name": "stdout",
     "output_type": "stream",
     "text": [
      "         TotalCases      NewCases   TotalDeaths   NewDeaths  TotalRecovered  \\\n",
      "count  6.300000e+01     19.000000     60.000000   10.000000    4.500000e+01   \n",
      "mean   1.141532e+06   9894.210526  14819.866667   56.900000    6.708617e+05   \n",
      "std    1.468724e+06  13171.504455  18310.706689   57.011597    7.797275e+05   \n",
      "min    3.000000e+00     38.000000      7.000000   12.000000    3.000000e+00   \n",
      "25%    2.138480e+05   1396.500000   2393.750000   15.500000    1.436660e+05   \n",
      "50%    6.813820e+05   3804.000000   9596.500000   52.500000    4.221640e+05   \n",
      "75%    1.455528e+06  11132.500000  19071.000000   65.500000    8.976670e+05   \n",
      "max    7.448890e+06  53022.000000  78870.000000  205.000000    3.666925e+06   \n",
      "\n",
      "        ActiveCases  Tot Cases/1M pop  Deaths/1M pop    TotalTests  \\\n",
      "count  4.500000e+01         52.000000      52.000000  6.000000e+01   \n",
      "mean   2.793075e+05     214316.519231    2493.519231  1.467054e+07   \n",
      "std    4.289316e+05      37832.925438     748.262051  2.239961e+07   \n",
      "min    0.000000e+00     124160.000000     807.000000  3.000000e+00   \n",
      "25%    1.846200e+04     200146.250000    1946.000000  3.070448e+06   \n",
      "50%    1.370030e+05     216632.000000    2726.000000  6.954717e+06   \n",
      "75%    3.974340e+05     239069.500000    3064.000000  1.711166e+07   \n",
      "max    2.166852e+06     308780.000000    3602.000000  1.311604e+08   \n",
      "\n",
      "       Tests/ 1M pop    Population  \n",
      "count   5.200000e+01  5.200000e+01  \n",
      "mean    2.609612e+06  6.377432e+06  \n",
      "std     1.214639e+06  7.300396e+06  \n",
      "min     7.416520e+05  5.787590e+05  \n",
      "25%     1.925836e+06  1.790876e+06  \n",
      "50%     2.320890e+06  4.342705e+06  \n",
      "75%     2.914561e+06  7.362761e+06  \n",
      "max     6.708611e+06  3.951222e+07  \n"
     ]
    }
   ],
   "source": [
    "# The stats will provide infomation such as min, max, the count, the standard deviation and the mean (avg).\n",
    "print(statesT.describe())"
   ]
  },
  {
   "cell_type": "markdown",
   "id": "ad5a7d0f",
   "metadata": {},
   "source": [
    "## Print the top 5 states (name & value) for each of these metrics:"
   ]
  },
  {
   "cell_type": "code",
   "execution_count": 9,
   "id": "0838b519",
   "metadata": {},
   "outputs": [
    {
     "name": "stdout",
     "output_type": "stream",
     "text": [
      "        USAState  NewCases\n",
      "2          Texas   53022.0\n",
      "1     California   28014.0\n",
      "12       Arizona   22922.0\n",
      "4       New York   18579.0\n",
      "6   Pennsylvania   12333.0\n"
     ]
    }
   ],
   "source": [
    "# New Cases\n",
    "print(statesT[['USAState','NewCases']].sort_values(by=['NewCases'], ascending=False).head(5))"
   ]
  },
  {
   "cell_type": "code",
   "execution_count": 10,
   "id": "1c94c73a",
   "metadata": {},
   "outputs": [
    {
     "name": "stdout",
     "output_type": "stream",
     "text": [
      "       USAState  TotalDeaths\n",
      "1    California      78870.0\n",
      "2         Texas      78491.0\n",
      "4      New York      63824.0\n",
      "3       Florida      63576.0\n",
      "6  Pennsylvania      39538.0\n"
     ]
    }
   ],
   "source": [
    "# Total Deaths\n",
    "print(statesT[['USAState', 'TotalDeaths']].sort_values(by=['TotalDeaths'], ascending=False).head(5))"
   ]
  },
  {
   "cell_type": "code",
   "execution_count": 11,
   "id": "ef0f4f40",
   "metadata": {
    "scrolled": true
   },
   "outputs": [
    {
     "name": "stdout",
     "output_type": "stream",
     "text": [
      "        USAState  Tot Cases/1M pop\n",
      "40  Rhode Island          308780.0\n",
      "45  North Dakota          276933.0\n",
      "47        Alaska          257827.0\n",
      "28          Utah          257642.0\n",
      "13     Tennessee          254234.0\n"
     ]
    }
   ],
   "source": [
    "# Total Cases/ 1M Pop.\n",
    "tcases = statesT.iloc[:, [0, 7]]\n",
    "print(tcases.sort_values(by=[tcases.columns[1]], ascending=False).head(5))"
   ]
  },
  {
   "cell_type": "code",
   "execution_count": 12,
   "id": "043c58b4",
   "metadata": {},
   "outputs": [
    {
     "name": "stdout",
     "output_type": "stream",
     "text": [
      "       USAState  Deaths/1M pop\n",
      "32  Mississippi         3602.0\n",
      "12      Arizona         3520.0\n",
      "11   New Jersey         3463.0\n",
      "23      Alabama         3432.0\n",
      "24    Louisiana         3296.0\n"
     ]
    }
   ],
   "source": [
    "# Total Deaths/ 1M Pop.\n",
    "tdeaths = statesT.iloc[:, [0, 8]]\n",
    "print(tdeaths.sort_values(by=[tdeaths.columns[1]], ascending=False).head(5))"
   ]
  },
  {
   "cell_type": "markdown",
   "id": "7902229a-fb76-495e-bb01-7c4aae4a12c8",
   "metadata": {},
   "source": [
    "## Chris Navoczynski"
   ]
  },
  {
   "cell_type": "code",
   "execution_count": null,
   "id": "f82498e6-7e45-4141-b244-93352f83e221",
   "metadata": {},
   "outputs": [],
   "source": []
  }
 ],
 "metadata": {
  "kernelspec": {
   "display_name": "Python 3 (ipykernel)",
   "language": "python",
   "name": "python3"
  },
  "language_info": {
   "codemirror_mode": {
    "name": "ipython",
    "version": 3
   },
   "file_extension": ".py",
   "mimetype": "text/x-python",
   "name": "python",
   "nbconvert_exporter": "python",
   "pygments_lexer": "ipython3",
   "version": "3.9.7"
  }
 },
 "nbformat": 4,
 "nbformat_minor": 5
}
